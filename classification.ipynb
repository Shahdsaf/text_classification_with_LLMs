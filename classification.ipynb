{
 "cells": [
  {
   "cell_type": "code",
   "execution_count": 15,
   "metadata": {},
   "outputs": [
    {
     "name": "stdout",
     "output_type": "stream",
     "text": [
      "\u001b[33mWARNING: Running pip as the 'root' user can result in broken permissions and conflicting behaviour with the system package manager. It is recommended to use a virtual environment instead: https://pip.pypa.io/warnings/venv\u001b[0m\u001b[33m\n",
      "\u001b[0m"
     ]
    }
   ],
   "source": [
    "!pip install transformers datasets accelerate scikit-learn evaluate --quiet"
   ]
  },
  {
   "cell_type": "markdown",
   "metadata": {},
   "source": [
    "### Data preparation and splitting "
   ]
  },
  {
   "cell_type": "code",
   "execution_count": 1,
   "metadata": {},
   "outputs": [
    {
     "data": {
      "text/html": [
       "<div>\n",
       "<style scoped>\n",
       "    .dataframe tbody tr th:only-of-type {\n",
       "        vertical-align: middle;\n",
       "    }\n",
       "\n",
       "    .dataframe tbody tr th {\n",
       "        vertical-align: top;\n",
       "    }\n",
       "\n",
       "    .dataframe thead th {\n",
       "        text-align: right;\n",
       "    }\n",
       "</style>\n",
       "<table border=\"1\" class=\"dataframe\">\n",
       "  <thead>\n",
       "    <tr style=\"text-align: right;\">\n",
       "      <th></th>\n",
       "      <th>category</th>\n",
       "      <th>question</th>\n",
       "      <th>answer</th>\n",
       "    </tr>\n",
       "  </thead>\n",
       "  <tbody>\n",
       "    <tr>\n",
       "      <th>0</th>\n",
       "      <td>Troubleshooting</td>\n",
       "      <td>Build Error\\nWhen I try to import an image sta...</td>\n",
       "      <td>Next.js handles static image imports slightly ...</td>\n",
       "    </tr>\n",
       "    <tr>\n",
       "      <th>1</th>\n",
       "      <td>Discovery</td>\n",
       "      <td>How can I specify my own character to separate...</td>\n",
       "      <td>I'm sorry, but based on the provided knowledge...</td>\n",
       "    </tr>\n",
       "    <tr>\n",
       "      <th>2</th>\n",
       "      <td>Discovery</td>\n",
       "      <td>When can I buy Tari?</td>\n",
       "      <td>As of the latest updates, the Tari main net ha...</td>\n",
       "    </tr>\n",
       "    <tr>\n",
       "      <th>3</th>\n",
       "      <td>Off-Topic</td>\n",
       "      <td>Invest</td>\n",
       "      <td>I'm sorry, but your question is a bit vague. I...</td>\n",
       "    </tr>\n",
       "    <tr>\n",
       "      <th>4</th>\n",
       "      <td>Discovery</td>\n",
       "      <td>I there a way to define a global variable that...</td>\n",
       "      <td>Yes, in Mage, you can define global variables ...</td>\n",
       "    </tr>\n",
       "  </tbody>\n",
       "</table>\n",
       "</div>"
      ],
      "text/plain": [
       "          category                                           question  \\\n",
       "0  Troubleshooting  Build Error\\nWhen I try to import an image sta...   \n",
       "1        Discovery  How can I specify my own character to separate...   \n",
       "2        Discovery                               When can I buy Tari?   \n",
       "3        Off-Topic                                             Invest   \n",
       "4        Discovery  I there a way to define a global variable that...   \n",
       "\n",
       "                                              answer  \n",
       "0  Next.js handles static image imports slightly ...  \n",
       "1  I'm sorry, but based on the provided knowledge...  \n",
       "2  As of the latest updates, the Tari main net ha...  \n",
       "3  I'm sorry, but your question is a bit vague. I...  \n",
       "4  Yes, in Mage, you can define global variables ...  "
      ]
     },
     "execution_count": 1,
     "metadata": {},
     "output_type": "execute_result"
    }
   ],
   "source": [
    "import pandas as pd\n",
    "import json\n",
    "\n",
    "\n",
    "with open(\"data.json\", \"r\") as f:\n",
    "    data = json.load(f)[\"data\"]\n",
    "\n",
    "df = pd.DataFrame(data)\n",
    "\n",
    "df.head()"
   ]
  },
  {
   "cell_type": "code",
   "execution_count": 2,
   "metadata": {},
   "outputs": [
    {
     "data": {
      "text/plain": [
       "category\n",
       "Discovery          734\n",
       "Troubleshooting    199\n",
       "Off-Topic           83\n",
       "Code                59\n",
       "Advice              53\n",
       "Comparison          50\n",
       "Off-topic            7\n",
       "Name: count, dtype: int64"
      ]
     },
     "execution_count": 2,
     "metadata": {},
     "output_type": "execute_result"
    }
   ],
   "source": [
    "df[\"category\"].value_counts()"
   ]
  },
  {
   "cell_type": "code",
   "execution_count": 3,
   "metadata": {},
   "outputs": [
    {
     "data": {
      "text/plain": [
       "category\n",
       "Discovery          734\n",
       "Troubleshooting    199\n",
       "Off-Topic           90\n",
       "Code                59\n",
       "Advice              53\n",
       "Comparison          50\n",
       "Name: count, dtype: int64"
      ]
     },
     "execution_count": 3,
     "metadata": {},
     "output_type": "execute_result"
    }
   ],
   "source": [
    "# there are 2 identical categories: \"Off-topic\" and \"Off-Topic\"\n",
    "# rename to \"Off-Topic\"\n",
    "\n",
    "df[\"category\"] = df[\"category\"].str.replace(\"Off-topic\", \"Off-Topic\")\n",
    "\n",
    "df[\"category\"].value_counts()"
   ]
  },
  {
   "cell_type": "code",
   "execution_count": 4,
   "metadata": {},
   "outputs": [
    {
     "data": {
      "text/html": [
       "<div>\n",
       "<style scoped>\n",
       "    .dataframe tbody tr th:only-of-type {\n",
       "        vertical-align: middle;\n",
       "    }\n",
       "\n",
       "    .dataframe tbody tr th {\n",
       "        vertical-align: top;\n",
       "    }\n",
       "\n",
       "    .dataframe thead th {\n",
       "        text-align: right;\n",
       "    }\n",
       "</style>\n",
       "<table border=\"1\" class=\"dataframe\">\n",
       "  <thead>\n",
       "    <tr style=\"text-align: right;\">\n",
       "      <th></th>\n",
       "      <th>category</th>\n",
       "      <th>question</th>\n",
       "      <th>answer</th>\n",
       "    </tr>\n",
       "  </thead>\n",
       "  <tbody>\n",
       "    <tr>\n",
       "      <th>72</th>\n",
       "      <td>Code</td>\n",
       "      <td>can you please convert this sample code in jav...</td>\n",
       "      <td>Sure, I can help you convert the JavaScript co...</td>\n",
       "    </tr>\n",
       "    <tr>\n",
       "      <th>351</th>\n",
       "      <td>Discovery</td>\n",
       "      <td>how can i get mask all coordinate</td>\n",
       "      <td>Hmm, I don't know enough to give you a confide...</td>\n",
       "    </tr>\n",
       "    <tr>\n",
       "      <th>212</th>\n",
       "      <td>Discovery</td>\n",
       "      <td>if a vulnerable package is already cached insi...</td>\n",
       "      <td>No, if a vulnerable package is already cached ...</td>\n",
       "    </tr>\n",
       "    <tr>\n",
       "      <th>17</th>\n",
       "      <td>Discovery</td>\n",
       "      <td>how to get SMS for login</td>\n",
       "      <td>FusionAuth supports SMS-based multi-factor aut...</td>\n",
       "    </tr>\n",
       "    <tr>\n",
       "      <th>7</th>\n",
       "      <td>Discovery</td>\n",
       "      <td>Has anyone mentioned that the changelog or wee...</td>\n",
       "      <td>I'm sorry, but the provided knowledge sources ...</td>\n",
       "    </tr>\n",
       "  </tbody>\n",
       "</table>\n",
       "</div>"
      ],
      "text/plain": [
       "      category                                           question  \\\n",
       "72        Code  can you please convert this sample code in jav...   \n",
       "351  Discovery                  how can i get mask all coordinate   \n",
       "212  Discovery  if a vulnerable package is already cached insi...   \n",
       "17   Discovery                           how to get SMS for login   \n",
       "7    Discovery  Has anyone mentioned that the changelog or wee...   \n",
       "\n",
       "                                                answer  \n",
       "72   Sure, I can help you convert the JavaScript co...  \n",
       "351  Hmm, I don't know enough to give you a confide...  \n",
       "212  No, if a vulnerable package is already cached ...  \n",
       "17   FusionAuth supports SMS-based multi-factor aut...  \n",
       "7    I'm sorry, but the provided knowledge sources ...  "
      ]
     },
     "execution_count": 4,
     "metadata": {},
     "output_type": "execute_result"
    }
   ],
   "source": [
    "# given labels are not equally distributed, split by category with stratify\n",
    "\n",
    "from sklearn.model_selection import train_test_split\n",
    "\n",
    "\n",
    "train, test = train_test_split(\n",
    "    df, test_size=0.15, stratify=df[\"category\"], random_state=42, shuffle=True\n",
    ")\n",
    "train, val = train_test_split(\n",
    "    train, test_size=0.15, stratify=train[\"category\"], random_state=42, shuffle=True\n",
    ")\n",
    "\n",
    "train.head()"
   ]
  },
  {
   "cell_type": "code",
   "execution_count": 5,
   "metadata": {},
   "outputs": [],
   "source": [
    "# reset index and save to parquet\n",
    "\n",
    "train = train.reset_index(drop=True)\n",
    "val = val.reset_index(drop=True)\n",
    "test = test.reset_index(drop=True)\n",
    "\n",
    "# for each row, add to question column f\"Question: {row['question']}\" and answer column f\"Answer: {row['answer']}\" and create a new column combined question and answer in one column\n",
    "\n",
    "train[\"question\"] = train[\"question\"].apply(lambda x: f\"Question: {x}\")\n",
    "train[\"answer\"] = train[\"answer\"].apply(lambda x: f\"Answer: {x}\")\n",
    "\n",
    "val[\"question\"] = val[\"question\"].apply(lambda x: f\"Question: {x}\")\n",
    "val[\"answer\"] = val[\"answer\"].apply(lambda x: f\"Answer: {x}\")\n",
    "\n",
    "test[\"question\"] = test[\"question\"].apply(lambda x: f\"Question: {x}\")\n",
    "test[\"answer\"] = test[\"answer\"].apply(lambda x: f\"Answer: {x}\")\n",
    "\n",
    "train[\"combined\"] = train[\"question\"] + \"\\n\" + train[\"answer\"]\n",
    "val[\"combined\"] = val[\"question\"] + \"\\n\" + val[\"answer\"]\n",
    "test[\"combined\"] = test[\"question\"] + \"\\n\" + test[\"answer\"]\n",
    "\n",
    "\n",
    "train.to_parquet(\"train.parquet\")\n",
    "val.to_parquet(\"val.parquet\")\n",
    "test.to_parquet(\"test.parquet\")"
   ]
  },
  {
   "cell_type": "code",
   "execution_count": 1,
   "metadata": {},
   "outputs": [
    {
     "data": {
      "text/plain": [
       "category\n",
       "Discovery          530\n",
       "Troubleshooting    143\n",
       "Off-Topic           65\n",
       "Code                42\n",
       "Advice              38\n",
       "Comparison          37\n",
       "Name: count, dtype: int64"
      ]
     },
     "execution_count": 1,
     "metadata": {},
     "output_type": "execute_result"
    }
   ],
   "source": [
    "# read train and val from parquet\n",
    "\n",
    "import pandas as pd\n",
    "\n",
    "\n",
    "train = pd.read_parquet(\"train.parquet\")\n",
    "val = pd.read_parquet(\"val.parquet\")\n",
    "test = pd.read_parquet(\"test.parquet\")\n",
    "\n",
    "train[\"category\"].value_counts()"
   ]
  },
  {
   "cell_type": "code",
   "execution_count": 2,
   "metadata": {},
   "outputs": [
    {
     "name": "stdout",
     "output_type": "stream",
     "text": [
      "category    0\n",
      "question    0\n",
      "answer      0\n",
      "combined    0\n",
      "dtype: int64\n",
      "category    0\n",
      "question    0\n",
      "answer      0\n",
      "combined    0\n",
      "dtype: int64\n",
      "category    0\n",
      "question    0\n",
      "answer      0\n",
      "combined    0\n",
      "dtype: int64\n"
     ]
    }
   ],
   "source": [
    "# get nan values for train and val and test\n",
    "\n",
    "print(train.isna().sum())\n",
    "print(val.isna().sum())\n",
    "print(test.isna().sum())"
   ]
  },
  {
   "cell_type": "code",
   "execution_count": 3,
   "metadata": {},
   "outputs": [
    {
     "data": {
      "text/html": [
       "<div>\n",
       "<style scoped>\n",
       "    .dataframe tbody tr th:only-of-type {\n",
       "        vertical-align: middle;\n",
       "    }\n",
       "\n",
       "    .dataframe tbody tr th {\n",
       "        vertical-align: top;\n",
       "    }\n",
       "\n",
       "    .dataframe thead th {\n",
       "        text-align: right;\n",
       "    }\n",
       "</style>\n",
       "<table border=\"1\" class=\"dataframe\">\n",
       "  <thead>\n",
       "    <tr style=\"text-align: right;\">\n",
       "      <th></th>\n",
       "      <th>category</th>\n",
       "      <th>question</th>\n",
       "      <th>answer</th>\n",
       "      <th>combined</th>\n",
       "    </tr>\n",
       "  </thead>\n",
       "  <tbody>\n",
       "    <tr>\n",
       "      <th>0</th>\n",
       "      <td>Discovery</td>\n",
       "      <td>Question: OAP在Receiver模式下, 必须要配置成集群模式吗?</td>\n",
       "      <td>Answer: 是的，OAP在Receiver模式下应该配置成集群模式。在集群模式下，所有的...</td>\n",
       "      <td>Question: OAP在Receiver模式下, 必须要配置成集群模式吗?\\nAnswe...</td>\n",
       "    </tr>\n",
       "    <tr>\n",
       "      <th>1</th>\n",
       "      <td>Troubleshooting</td>\n",
       "      <td>Question: Build Error\\nWhen I try to import an...</td>\n",
       "      <td>Answer: Next.js handles static image imports s...</td>\n",
       "      <td>Question: Build Error\\nWhen I try to import an...</td>\n",
       "    </tr>\n",
       "    <tr>\n",
       "      <th>2</th>\n",
       "      <td>Off-Topic</td>\n",
       "      <td>Question: Hello there</td>\n",
       "      <td>Answer: Hello! How can I assist you with Typef...</td>\n",
       "      <td>Question: Hello there\\nAnswer: Hello! How can ...</td>\n",
       "    </tr>\n",
       "    <tr>\n",
       "      <th>3</th>\n",
       "      <td>Off-Topic</td>\n",
       "      <td>Question: hi</td>\n",
       "      <td>Answer: Hello! How can I assist you with kapa....</td>\n",
       "      <td>Question: hi\\nAnswer: Hello! How can I assist ...</td>\n",
       "    </tr>\n",
       "    <tr>\n",
       "      <th>4</th>\n",
       "      <td>Discovery</td>\n",
       "      <td>Question: creating a new project in amplitude</td>\n",
       "      <td>Answer: Creating a new project in Amplitude in...</td>\n",
       "      <td>Question: creating a new project in amplitude ...</td>\n",
       "    </tr>\n",
       "  </tbody>\n",
       "</table>\n",
       "</div>"
      ],
      "text/plain": [
       "          category                                           question  \\\n",
       "0        Discovery            Question: OAP在Receiver模式下, 必须要配置成集群模式吗?   \n",
       "1  Troubleshooting  Question: Build Error\\nWhen I try to import an...   \n",
       "2        Off-Topic                              Question: Hello there   \n",
       "3        Off-Topic                                       Question: hi   \n",
       "4        Discovery     Question: creating a new project in amplitude    \n",
       "\n",
       "                                              answer  \\\n",
       "0  Answer: 是的，OAP在Receiver模式下应该配置成集群模式。在集群模式下，所有的...   \n",
       "1  Answer: Next.js handles static image imports s...   \n",
       "2  Answer: Hello! How can I assist you with Typef...   \n",
       "3  Answer: Hello! How can I assist you with kapa....   \n",
       "4  Answer: Creating a new project in Amplitude in...   \n",
       "\n",
       "                                            combined  \n",
       "0  Question: OAP在Receiver模式下, 必须要配置成集群模式吗?\\nAnswe...  \n",
       "1  Question: Build Error\\nWhen I try to import an...  \n",
       "2  Question: Hello there\\nAnswer: Hello! How can ...  \n",
       "3  Question: hi\\nAnswer: Hello! How can I assist ...  \n",
       "4  Question: creating a new project in amplitude ...  "
      ]
     },
     "execution_count": 3,
     "metadata": {},
     "output_type": "execute_result"
    }
   ],
   "source": [
    "test.head()"
   ]
  },
  {
   "cell_type": "code",
   "execution_count": 4,
   "metadata": {},
   "outputs": [
    {
     "data": {
      "application/vnd.jupyter.widget-view+json": {
       "model_id": "00a66c46142e4d29a0eebf2ac240b165",
       "version_major": 2,
       "version_minor": 0
      },
      "text/plain": [
       "Casting to class labels:   0%|          | 0/855 [00:00<?, ? examples/s]"
      ]
     },
     "metadata": {},
     "output_type": "display_data"
    },
    {
     "data": {
      "application/vnd.jupyter.widget-view+json": {
       "model_id": "7987d6c469b048d08abdb279b0978447",
       "version_major": 2,
       "version_minor": 0
      },
      "text/plain": [
       "Casting the dataset:   0%|          | 0/152 [00:00<?, ? examples/s]"
      ]
     },
     "metadata": {},
     "output_type": "display_data"
    },
    {
     "data": {
      "application/vnd.jupyter.widget-view+json": {
       "model_id": "49730b89d5224f0bbc0aae86901ea7b4",
       "version_major": 2,
       "version_minor": 0
      },
      "text/plain": [
       "Casting the dataset:   0%|          | 0/178 [00:00<?, ? examples/s]"
      ]
     },
     "metadata": {},
     "output_type": "display_data"
    }
   ],
   "source": [
    "from datasets import Dataset\n",
    "\n",
    "label2id = {\n",
    "    \"Discovery\": 0,\n",
    "    \"Troubleshooting\": 1,\n",
    "    \"Off-Topic\": 2,\n",
    "    \"Code\": 3,\n",
    "    \"Advice\": 4,\n",
    "    \"Comparison\": 5,\n",
    "}\n",
    "\n",
    "train_dataset = Dataset.from_pandas(train, split=\"train\").class_encode_column(\n",
    "    \"category\"\n",
    ")\n",
    "class_label_feature = train_dataset.features[\"category\"]\n",
    "val_dataset = Dataset.from_pandas(val, split=\"val\").cast_column(\n",
    "    \"category\", class_label_feature\n",
    ")\n",
    "test_dataset = Dataset.from_pandas(test, split=\"test\").cast_column(\n",
    "    \"category\", class_label_feature\n",
    ")"
   ]
  },
  {
   "cell_type": "code",
   "execution_count": 5,
   "metadata": {},
   "outputs": [
    {
     "data": {
      "text/plain": [
       "{0: 'Advice',\n",
       " 1: 'Code',\n",
       " 2: 'Comparison',\n",
       " 3: 'Discovery',\n",
       " 4: 'Off-Topic',\n",
       " 5: 'Troubleshooting'}"
      ]
     },
     "execution_count": 5,
     "metadata": {},
     "output_type": "execute_result"
    }
   ],
   "source": [
    "label2id = train_dataset.features[\"category\"]._str2int\n",
    "id2label = {v: k for k, v in label2id.items()}\n",
    "\n",
    "id2label"
   ]
  },
  {
   "cell_type": "code",
   "execution_count": 6,
   "metadata": {},
   "outputs": [],
   "source": [
    "config = {\n",
    "    \"model_name\": \"bert-base-multilingual-cased\",\n",
    "    \"input_type\": \"question\",\n",
    "}"
   ]
  },
  {
   "cell_type": "code",
   "execution_count": 7,
   "metadata": {},
   "outputs": [
    {
     "data": {
      "application/vnd.jupyter.widget-view+json": {
       "model_id": "8c307e86c8fb4c96a11524ba30591fc7",
       "version_major": 2,
       "version_minor": 0
      },
      "text/plain": [
       "tokenizer_config.json:   0%|          | 0.00/49.0 [00:00<?, ?B/s]"
      ]
     },
     "metadata": {},
     "output_type": "display_data"
    },
    {
     "data": {
      "application/vnd.jupyter.widget-view+json": {
       "model_id": "d2e236e2a5da4e20aa7e70760121b9f8",
       "version_major": 2,
       "version_minor": 0
      },
      "text/plain": [
       "config.json:   0%|          | 0.00/625 [00:00<?, ?B/s]"
      ]
     },
     "metadata": {},
     "output_type": "display_data"
    },
    {
     "data": {
      "application/vnd.jupyter.widget-view+json": {
       "model_id": "ffe0fb7d04894a9b92aca75d203cd021",
       "version_major": 2,
       "version_minor": 0
      },
      "text/plain": [
       "vocab.txt:   0%|          | 0.00/996k [00:00<?, ?B/s]"
      ]
     },
     "metadata": {},
     "output_type": "display_data"
    },
    {
     "data": {
      "application/vnd.jupyter.widget-view+json": {
       "model_id": "cd03ed8baba549de8c418baa368b9d9f",
       "version_major": 2,
       "version_minor": 0
      },
      "text/plain": [
       "tokenizer.json:   0%|          | 0.00/1.96M [00:00<?, ?B/s]"
      ]
     },
     "metadata": {},
     "output_type": "display_data"
    },
    {
     "name": "stderr",
     "output_type": "stream",
     "text": [
      "/opt/conda/lib/python3.10/site-packages/transformers/tokenization_utils_base.py:1601: FutureWarning: `clean_up_tokenization_spaces` was not set. It will be set to `True` by default. This behavior will be depracted in transformers v4.45, and will be then set to `False` by default. For more details check this issue: https://github.com/huggingface/transformers/issues/31884\n",
      "  warnings.warn(\n"
     ]
    },
    {
     "data": {
      "application/vnd.jupyter.widget-view+json": {
       "model_id": "8435b32ea1424fd09f7063d34b941e35",
       "version_major": 2,
       "version_minor": 0
      },
      "text/plain": [
       "Map:   0%|          | 0/855 [00:00<?, ? examples/s]"
      ]
     },
     "metadata": {},
     "output_type": "display_data"
    },
    {
     "data": {
      "application/vnd.jupyter.widget-view+json": {
       "model_id": "42e78fe5547d4523a5651af961868f5b",
       "version_major": 2,
       "version_minor": 0
      },
      "text/plain": [
       "Map:   0%|          | 0/152 [00:00<?, ? examples/s]"
      ]
     },
     "metadata": {},
     "output_type": "display_data"
    },
    {
     "data": {
      "application/vnd.jupyter.widget-view+json": {
       "model_id": "7d2be44bad8f496a8478194ae0cb5267",
       "version_major": 2,
       "version_minor": 0
      },
      "text/plain": [
       "Map:   0%|          | 0/178 [00:00<?, ? examples/s]"
      ]
     },
     "metadata": {},
     "output_type": "display_data"
    }
   ],
   "source": [
    "from transformers import AutoTokenizer\n",
    "\n",
    "tokenizer = AutoTokenizer.from_pretrained(config[\"model_name\"])\n",
    "\n",
    "\n",
    "def preprocess_function(examples):\n",
    "    return tokenizer(examples[config[\"input_type\"]], truncation=True)\n",
    "\n",
    "\n",
    "tokenized_train = train_dataset.map(preprocess_function, batched=True)\n",
    "tokenized_val = val_dataset.map(preprocess_function, batched=True)\n",
    "tokenized_test = test_dataset.map(preprocess_function, batched=True)"
   ]
  },
  {
   "cell_type": "code",
   "execution_count": 8,
   "metadata": {},
   "outputs": [
    {
     "data": {
      "text/plain": [
       "'[CLS] Question : OAP 在 Receiver 模 式 下, 必 须 要 配 置 成 集 群 模 式 吗? [SEP]'"
      ]
     },
     "execution_count": 8,
     "metadata": {},
     "output_type": "execute_result"
    }
   ],
   "source": [
    "tokenizer.decode(tokenized_test[0][\"input_ids\"])"
   ]
  },
  {
   "cell_type": "code",
   "execution_count": 9,
   "metadata": {},
   "outputs": [
    {
     "data": {
      "text/plain": [
       "'Question: OAP在Receiver模式下, 必须要配置成集群模式吗?'"
      ]
     },
     "execution_count": 9,
     "metadata": {},
     "output_type": "execute_result"
    }
   ],
   "source": [
    "tokenized_test[0][\"question\"]"
   ]
  },
  {
   "cell_type": "code",
   "execution_count": 10,
   "metadata": {},
   "outputs": [],
   "source": [
    "from transformers import DataCollatorWithPadding\n",
    "\n",
    "data_collator = DataCollatorWithPadding(tokenizer=tokenizer)"
   ]
  },
  {
   "cell_type": "code",
   "execution_count": 11,
   "metadata": {},
   "outputs": [],
   "source": [
    "import evaluate\n",
    "import numpy as np\n",
    "\n",
    "\n",
    "def compute_metrics(eval_preds):\n",
    "    metric = evaluate.combine([\"f1\", \"precision\", \"recall\"])\n",
    "    logits, labels = eval_preds\n",
    "    predictions = np.argmax(logits, axis=-1)\n",
    "    metrics = metric.compute(\n",
    "        predictions=predictions, references=labels, average=\"weighted\"\n",
    "    )\n",
    "\n",
    "    # F1 Score per label\n",
    "    f1_metric = evaluate.load(\"f1\")\n",
    "    f1_per_label = f1_metric.compute(\n",
    "        predictions=predictions, references=labels, average=None\n",
    "    )\n",
    "    f1_per_label_dict = {id2label[idx]: v for idx, v in enumerate(f1_per_label[\"f1\"])}\n",
    "\n",
    "    return {\n",
    "        \"f1\": metrics[\"f1\"],\n",
    "        \"precision\": metrics[\"precision\"],\n",
    "        \"recall\": metrics[\"recall\"],\n",
    "        \"f1_per_label\": f1_per_label_dict,\n",
    "    }"
   ]
  },
  {
   "cell_type": "code",
   "execution_count": 12,
   "metadata": {},
   "outputs": [
    {
     "data": {
      "application/vnd.jupyter.widget-view+json": {
       "model_id": "08d541ea1aad4bf0bedb7f0510a4ab52",
       "version_major": 2,
       "version_minor": 0
      },
      "text/plain": [
       "model.safetensors:   0%|          | 0.00/714M [00:00<?, ?B/s]"
      ]
     },
     "metadata": {},
     "output_type": "display_data"
    }
   ],
   "source": [
    "from transformers import AutoModelForSequenceClassification, TrainingArguments, Trainer\n",
    "\n",
    "model = AutoModelForSequenceClassification.from_pretrained(\n",
    "    config[\"model_name\"],\n",
    "    num_labels=6,\n",
    "    id2label=id2label,\n",
    "    label2id=label2id,\n",
    ")"
   ]
  },
  {
   "cell_type": "code",
   "execution_count": null,
   "metadata": {},
   "outputs": [],
   "source": []
  }
 ],
 "metadata": {
  "kernelspec": {
   "display_name": "base",
   "language": "python",
   "name": "python3"
  },
  "language_info": {
   "codemirror_mode": {
    "name": "ipython",
    "version": 3
   },
   "file_extension": ".py",
   "mimetype": "text/x-python",
   "name": "python",
   "nbconvert_exporter": "python",
   "pygments_lexer": "ipython3",
   "version": "3.10.13"
  }
 },
 "nbformat": 4,
 "nbformat_minor": 2
}
